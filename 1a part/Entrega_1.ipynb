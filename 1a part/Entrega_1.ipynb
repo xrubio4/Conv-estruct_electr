{
  "cells": [
    {
      "cell_type": "code",
      "execution_count": null,
      "metadata": {
        "id": "rFJTSlVE52DP",
        "outputId": "04db4299-d90e-433c-e6cf-7eeeb39e90b5"
      },
      "outputs": [
        {
          "name": "stdout",
          "output_type": "stream",
          "text": [
            "EXECUTANT SIMULACIÓ PER 1 punts K\n"
          ]
        },
        {
          "name": "stderr",
          "output_type": "stream",
          "text": [
            "Gamma-point calculation with interaction between periodic images\n",
            "Some features might not work optimally:\n",
            "e.g. DM initialization from atomic data\n",
            "Job completed\n"
          ]
        },
        {
          "name": "stdout",
          "output_type": "stream",
          "text": [
            "EXECUTANT SIMULACIÓ PER 2 punts K\n"
          ]
        },
        {
          "name": "stderr",
          "output_type": "stream",
          "text": [
            "Job completed\n"
          ]
        },
        {
          "name": "stdout",
          "output_type": "stream",
          "text": [
            "EXECUTANT SIMULACIÓ PER 3 punts K\n"
          ]
        },
        {
          "name": "stderr",
          "output_type": "stream",
          "text": [
            "Job completed\n"
          ]
        },
        {
          "name": "stdout",
          "output_type": "stream",
          "text": [
            "EXECUTANT SIMULACIÓ PER 4 punts K\n"
          ]
        },
        {
          "name": "stderr",
          "output_type": "stream",
          "text": [
            "Job completed\n"
          ]
        },
        {
          "name": "stdout",
          "output_type": "stream",
          "text": [
            "EXECUTANT SIMULACIÓ PER 5 punts K\n"
          ]
        },
        {
          "name": "stderr",
          "output_type": "stream",
          "text": [
            "Job completed\n"
          ]
        },
        {
          "name": "stdout",
          "output_type": "stream",
          "text": [
            "EXECUTANT SIMULACIÓ PER 6 punts K\n"
          ]
        },
        {
          "name": "stderr",
          "output_type": "stream",
          "text": [
            "Job completed\n"
          ]
        },
        {
          "name": "stdout",
          "output_type": "stream",
          "text": [
            "EXECUTANT SIMULACIÓ PER 7 punts K\n"
          ]
        },
        {
          "name": "stderr",
          "output_type": "stream",
          "text": [
            "Job completed\n"
          ]
        },
        {
          "name": "stdout",
          "output_type": "stream",
          "text": [
            "EXECUTANT SIMULACIÓ PER 8 punts K\n"
          ]
        },
        {
          "name": "stderr",
          "output_type": "stream",
          "text": [
            "Job completed\n"
          ]
        },
        {
          "name": "stdout",
          "output_type": "stream",
          "text": [
            "EXECUTANT SIMULACIÓ PER 9 punts K\n"
          ]
        },
        {
          "name": "stderr",
          "output_type": "stream",
          "text": [
            "Job completed\n"
          ]
        },
        {
          "data": {
            "image/png": "[encoded data removed]",
            "text/plain": [
              "<Figure size 640x480 with 1 Axes>"
            ]
          },
          "metadata": {},
          "output_type": "display_data"
        }
      ],
      "source": [
        "import numpy as np\n",
        "import sisl\n",
        "import sisl.viz\n",
        "import plotly.express as px\n",
        "import matplotlib.pyplot as plt\n",
        "from pathlib import Path\n",
        "import os\n",
        "\n",
        "graphene = sisl.geom.graphene()\n",
        "graphene.plot(axes=\"xy\")\n",
        "\n",
        "inputs_dir = Path(\"convergence/inputs\")\n",
        "graphene.write(inputs_dir / \"geom.fdf\")\n",
        "root = Path(\"convergence/numK\")\n",
        "root.mkdir(exist_ok=True)\n",
        "\n",
        "#num de punts K\n",
        "num = [1, 2, 3, 4, 5, 6, 7, 8, 9]\n",
        "\n",
        "#Iteraa sobre el nombre de punts K\n",
        "for num in num:\n",
        "    print(f\"EXECUTANT SIMULACIÓ PER {num} punts K\")\n",
        "\n",
        "    # Defineix el directori per a aquest tamany de base i el crea si no existeix\n",
        "    basis_dir = root / str(num)\n",
        "    basis_dir.mkdir(exist_ok=True)\n",
        "\n",
        "    # Copia els inputs del directori d'inputs a aquest.\n",
        "    os.system(f\"cp {inputs_dir}/* {basis_dir}\")\n",
        "\n",
        "    # Dins d'aquest directori, crea un fitxer RUN.fdf\n",
        "    with open(basis_dir / 'RUN.fdf', 'w') as l:\n",
        "        l.write(\"%include geom.fdf \\n\")\n",
        "        l.write(f\"\"\"%block kgrid.MonkhorstPack)\n",
        "        {num} 0 0 0)\n",
        "        0 {num} 0 0 0)\n",
        "        0 0 1  0)\n",
        "        %endblock kgrid.MonkhorstPack \"\"\")\n",
        "\n",
        "    # Executar SIESTA\n",
        "    siesta_path = \"/opt/anaconda3/envs/nanociencia/bin/siesta\" #...escriu aquí la ruta de siesta\n",
        "    os.system(f\"cd {basis_dir}; {siesta_path} RUN.fdf > RUN.out\")\n",
        "\n",
        "E = []\n",
        "\n",
        "for num in range(1, 10, 1):\n",
        "    # Defineix el directori on s'ha executat aquest càlcul de tamany de base.\n",
        "    basis_dir = root / str(num)\n",
        "    out_file = sisl.get_sile(basis_dir / \"RUN.out\", cls=sisl.io.stdoutSileSiesta)\n",
        "    energies = out_file.read_energy()\n",
        "\n",
        "    # En particular, ens interessa l'energia total, que obtenim i guardem a la llista\n",
        "    Etot = energies['total']\n",
        "    E.append(Etot)\n",
        "\n",
        "x = [1, 2, 3, 4, 5, 6, 7, 8, 9]\n",
        "plt.plot(x, E)\n",
        "plt.xlabel('K')\n",
        "plt.ylabel('Energia [eV]')\n",
        "plt.title('Energia en funció del nombre de punts K')\n",
        "plt.show()"
      ]
    },
    {
      "cell_type": "code",
      "execution_count": null,
      "metadata": {
        "id": "tV-ZHioG_NcN"
      },
      "outputs": [],
      "source": []
    }
  ],
  "metadata": {
    "colab": {
      "provenance": []
    },
    "kernelspec": {
      "display_name": "Python 3 (ipykernel)",
      "language": "python",
      "name": "python3"
    },
    "language_info": {
      "codemirror_mode": {
        "name": "ipython",
        "version": 3
      },
      "file_extension": ".py",
      "mimetype": "text/x-python",
      "name": "python",
      "nbconvert_exporter": "python",
      "pygments_lexer": "ipython3",
      "version": "3.11.8"
    }
  },
  "nbformat": 4,
  "nbformat_minor": 0
}